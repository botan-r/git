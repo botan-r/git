{
 "cells": [
  {
   "cell_type": "code",
   "execution_count": null,
   "id": "033b3706",
   "metadata": {},
   "outputs": [],
   "source": [
    "# ! python3 -m pip install pymemcache"
   ]
  },
  {
   "cell_type": "code",
   "execution_count": 20,
   "id": "52795eda",
   "metadata": {},
   "outputs": [],
   "source": [
    "# ! python3 -m pip install base58"
   ]
  },
  {
   "cell_type": "code",
   "execution_count": 1,
   "id": "fab7ad03",
   "metadata": {},
   "outputs": [],
   "source": [
    "from pymemcache.client import base"
   ]
  },
  {
   "cell_type": "code",
   "execution_count": 2,
   "id": "ed91614f",
   "metadata": {},
   "outputs": [],
   "source": [
    "client = base.Client(('localhost', 11211))"
   ]
  },
  {
   "cell_type": "code",
   "execution_count": 3,
   "id": "def5b8ba",
   "metadata": {},
   "outputs": [
    {
     "data": {
      "text/plain": [
       "True"
      ]
     },
     "execution_count": 3,
     "metadata": {},
     "output_type": "execute_result"
    }
   ],
   "source": [
    "client.set('some_key', 'some value')"
   ]
  },
  {
   "cell_type": "code",
   "execution_count": 7,
   "id": "3fdc30e6",
   "metadata": {
    "scrolled": true
   },
   "outputs": [
    {
     "data": {
      "text/plain": [
       "b'some value'"
      ]
     },
     "execution_count": 7,
     "metadata": {},
     "output_type": "execute_result"
    }
   ],
   "source": [
    "client.get('some_key')"
   ]
  },
  {
   "cell_type": "code",
   "execution_count": 8,
   "id": "c42ce0f7",
   "metadata": {},
   "outputs": [],
   "source": [
    "client.close()"
   ]
  },
  {
   "cell_type": "code",
   "execution_count": 21,
   "id": "8101eb00",
   "metadata": {},
   "outputs": [],
   "source": [
    "import hashlib\n",
    "import base58\n",
    "def hexToBase58Checksum(hexAddress):\n",
    "    hexBytes =  bytearray.fromhex(hexAddress)\n",
    "    m = hashlib.sha256()\n",
    "    m.update(hexBytes)\n",
    "    pass1 = m.digest()\n",
    "    m = hashlib.sha256()\n",
    "    m.update(pass1)\n",
    "    chksum = m.digest()[:4]\n",
    "    base58Str = base58.b58encode(hexBytes+chksum)\n",
    "    return base58Str"
   ]
  },
  {
   "cell_type": "code",
   "execution_count": 22,
   "id": "f1d94be8",
   "metadata": {},
   "outputs": [
    {
     "data": {
      "text/plain": [
       "b'TCuhmgyD2FkHV2vVcZzPg9uwTt9FgRZZUi'"
      ]
     },
     "execution_count": 22,
     "metadata": {},
     "output_type": "execute_result"
    }
   ],
   "source": [
    "hexToBase58Checksum('41203ebaa47ea3bdda77c1fa07bd542257d7dc35b2')"
   ]
  }
 ],
 "metadata": {
  "kernelspec": {
   "display_name": "Python 3 (ipykernel)",
   "language": "python",
   "name": "python3"
  },
  "language_info": {
   "codemirror_mode": {
    "name": "ipython",
    "version": 3
   },
   "file_extension": ".py",
   "mimetype": "text/x-python",
   "name": "python",
   "nbconvert_exporter": "python",
   "pygments_lexer": "ipython3",
   "version": "3.8.10"
  }
 },
 "nbformat": 4,
 "nbformat_minor": 5
}
